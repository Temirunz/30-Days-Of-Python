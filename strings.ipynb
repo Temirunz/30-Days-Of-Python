{
  "cells": [
    {
      "cell_type": "markdown",
      "metadata": {
        "id": "view-in-github",
        "colab_type": "text"
      },
      "source": [
        "<a href=\"https://colab.research.google.com/github/Temirunz/30-Days-Of-Python/blob/master/strings.ipynb\" target=\"_parent\"><img src=\"https://colab.research.google.com/assets/colab-badge.svg\" alt=\"Open In Colab\"/></a>"
      ]
    },
    {
      "cell_type": "code",
      "execution_count": null,
      "metadata": {
        "colab": {
          "base_uri": "https://localhost:8080/"
        },
        "id": "kQZTXDV9myNz",
        "outputId": "10367a15-c3b5-4973-e3eb-953b3713d0bc"
      },
      "outputs": [
        {
          "name": "stdout",
          "output_type": "stream",
          "text": [
            "4 + 3 = 7\n",
            "4 + 3 = 7\n",
            "4 - 3 = 1\n",
            "4 * 3 = 12\n",
            "4 / 3 = 1.3333333333333333\n",
            "4 // 3 = 1\n",
            "4% 3 = 1\n"
          ]
        }
      ],
      "source": [
        "a = 4\n",
        "b = 3\n",
        "a + b\n",
        "a - b\n",
        "print('{} + {} = {}'.format(a, b, a + b))\n",
        "print('{} + {} = {}'.format(a, b, a + b))\n",
        "print('{} - {} = {}'.format(a, b, a - b))\n",
        "print('{} * {} = {}'.format(a, b, a * b))\n",
        "print('{} / {} = {}'.format(a, b, a / b))\n",
        "print('{} // {} = {}'. format(a,b, a//b ))\n",
        "print('{}. % {} = {}'.format(a,b,a % b))"
      ]
    },
    {
      "cell_type": "code",
      "execution_count": null,
      "metadata": {
        "colab": {
          "base_uri": "https://localhost:8080/"
        },
        "id": "AC6bPX0Ix_CH",
        "outputId": "957f61ba-7ae9-4f68-f015-4fe84e46e758"
      },
      "outputs": [
        {
          "name": "stdout",
          "output_type": "stream",
          "text": [
            "4+3 = 7\n",
            "4 / 3 = 1.33\n"
          ]
        }
      ],
      "source": [
        "a = 4\n",
        "b = 3\n",
        "print(f'{a}+{b} = {a +b}')\n",
        "print(f'{a} / {b} = {a/b:.2f}')\n"
      ]
    },
    {
      "cell_type": "code",
      "execution_count": null,
      "metadata": {
        "colab": {
          "base_uri": "https://localhost:8080/"
        },
        "id": "GxCovzlA6YlX",
        "outputId": "2c7c3f28-38bc-4d8d-8ec5-93068d788d3a"
      },
      "outputs": [
        {
          "name": "stdout",
          "output_type": "stream",
          "text": [
            "p\n",
            "y\n",
            "t\n",
            "h\n",
            "o\n",
            "n\n"
          ]
        }
      ],
      "source": [
        "language = 'python'\n",
        "a,b,c,d,e,f = language\n",
        "print(a)\n",
        "print(b)\n",
        "print (c)\n",
        "print(d)\n",
        "print (e)\n",
        "print (f)"
      ]
    },
    {
      "cell_type": "code",
      "execution_count": null,
      "metadata": {
        "colab": {
          "base_uri": "https://localhost:8080/"
        },
        "id": "Xh8hLUiV_eoT",
        "outputId": "c73a693c-baea-4c4f-d624-ad9ec21962e0"
      },
      "outputs": [
        {
          "name": "stdout",
          "output_type": "stream",
          "text": [
            "14\n",
            " for all\n",
            "ll\n",
            "or \n"
          ]
        }
      ],
      "source": [
        "language = 'coding for all'\n",
        "print(len(language ))\n",
        "last_six = language[6:14]\n",
        "print(last_six)\n",
        "last_two = language [-2:]\n",
        "print(last_two)\n",
        "middle_three = language[8:11]\n",
        "print(middle_three)"
      ]
    },
    {
      "cell_type": "code",
      "source": [
        "challenge = 'thirty\\tdays\\tof\\tpython'\n",
        "print(challenge.expandtabs())\n",
        "print(challenge.expandtabs(10))\n",
        "print(challenge.expandtabs(13))"
      ],
      "metadata": {
        "colab": {
          "base_uri": "https://localhost:8080/"
        },
        "id": "VhGGXSf_X5uK",
        "outputId": "7a98791c-9277-49ff-a8b0-d57a2062f9f1"
      },
      "execution_count": null,
      "outputs": [
        {
          "output_type": "stream",
          "name": "stdout",
          "text": [
            "thirty  days    of      python\n",
            "thirty    days      of        python\n",
            "thirty       days         of           python\n"
          ]
        }
      ]
    },
    {
      "cell_type": "code",
      "source": [
        "from re import subn\n",
        "challenge ='thirty days of python'\n",
        "print(challenge.find('y'))\n",
        "print(challenge.find('th'))\n",
        "print(challenge.find('d'))\n",
        "print(challenge.find('days'))\n",
        "print(challenge.find('of'))\n",
        "print(challenge.rfind('days'))\n",
        "print(challenge.rfind('y'))\n",
        "sub_string = 'da'\n",
        "print(challenge.index(sub_string))\n",
        "sub_string ='of'\n",
        "print(challenge.index(sub_string ,9))\n",
        "sub_string = 'da'\n",
        "print(challenge.rindex(sub_string))\n",
        "sub_string = 'of'\n",
        "print(challenge.rindex(sub_string,6,))\n",
        "challenge = 'ThirtyDaysPython'\n",
        "print(challenge.isalnum())\n"
      ],
      "metadata": {
        "colab": {
          "base_uri": "https://localhost:8080/"
        },
        "id": "eHFfNvf-ZKxZ",
        "outputId": "15a2472c-14e1-4ac4-c1b0-b498cb12f3f4"
      },
      "execution_count": null,
      "outputs": [
        {
          "output_type": "stream",
          "name": "stdout",
          "text": [
            "5\n",
            "0\n",
            "7\n",
            "7\n",
            "12\n",
            "7\n",
            "16\n",
            "7\n",
            "12\n",
            "7\n",
            "12\n",
            "True\n"
          ]
        }
      ]
    },
    {
      "cell_type": "code",
      "source": [
        "challenge = 'thirty days of python'\n",
        "print(challenge.isalpha())\n",
        "num = '123'\n",
        "print(num.isalpha())\n",
        "challenge = 'ThirtyDaysOfPython'\n",
        "print(challenge.isalpha())\n"
      ],
      "metadata": {
        "colab": {
          "base_uri": "https://localhost:8080/"
        },
        "id": "sTCxe9D9H6Wn",
        "outputId": "0395e932-ae5e-4bce-db44-873c4088850b"
      },
      "execution_count": null,
      "outputs": [
        {
          "output_type": "stream",
          "name": "stdout",
          "text": [
            "False\n",
            "False\n",
            "True\n"
          ]
        }
      ]
    },
    {
      "cell_type": "code",
      "source": [
        "challenge = 'thirty days of python '\n",
        "print(challenge.isdecimal())"
      ],
      "metadata": {
        "colab": {
          "base_uri": "https://localhost:8080/"
        },
        "id": "PisX3ETMsBpU",
        "outputId": "b0da5407-b013-4ed3-c6e4-36fd1e3ae7d3"
      },
      "execution_count": null,
      "outputs": [
        {
          "output_type": "stream",
          "name": "stdout",
          "text": [
            "False\n"
          ]
        }
      ]
    },
    {
      "cell_type": "code",
      "source": [
        "challenge = '123'\n",
        "print(challenge.isdecimal())"
      ],
      "metadata": {
        "colab": {
          "base_uri": "https://localhost:8080/"
        },
        "id": "oCZH2Npssq_P",
        "outputId": "56d41c95-f676-48b9-e496-0bbcb90462d4"
      },
      "execution_count": null,
      "outputs": [
        {
          "output_type": "stream",
          "name": "stdout",
          "text": [
            "True\n"
          ]
        }
      ]
    },
    {
      "cell_type": "code",
      "source": [
        "challenge = '3.1234'\n",
        "print(challenge.isdecimal())"
      ],
      "metadata": {
        "colab": {
          "base_uri": "https://localhost:8080/"
        },
        "id": "ihlKXCFFs31b",
        "outputId": "aa9a5a9b-fcb6-46e6-fc33-f6154ed208f2"
      },
      "execution_count": null,
      "outputs": [
        {
          "output_type": "stream",
          "name": "stdout",
          "text": [
            "False\n"
          ]
        }
      ]
    },
    {
      "cell_type": "code",
      "source": [
        "challenge = '1434 333'\n",
        "print (challenge.isdecimal())"
      ],
      "metadata": {
        "colab": {
          "base_uri": "https://localhost:8080/"
        },
        "id": "62jXUlGrwUVK",
        "outputId": "ef0089e9-f82b-4fee-ec96-08b932991b3e"
      },
      "execution_count": null,
      "outputs": [
        {
          "output_type": "stream",
          "name": "stdout",
          "text": [
            "False\n"
          ]
        }
      ]
    },
    {
      "cell_type": "code",
      "source": [
        "challenge = 'thirty'\n",
        "\n",
        "print (challenge . isdigit())\n"
      ],
      "metadata": {
        "colab": {
          "base_uri": "https://localhost:8080/"
        },
        "id": "bZYPE-gpyzBR",
        "outputId": "cd5301f5-d02c-432f-9202-751c24eaca11"
      },
      "execution_count": null,
      "outputs": [
        {
          "output_type": "stream",
          "name": "stdout",
          "text": [
            "False\n"
          ]
        }
      ]
    },
    {
      "cell_type": "code",
      "source": [
        "challenge = '30'\n",
        "\n",
        "print (challenge . isdigit())"
      ],
      "metadata": {
        "colab": {
          "base_uri": "https://localhost:8080/"
        },
        "id": "VtQmHYMQzNMC",
        "outputId": "bbc50ee8-0446-43bc-ad57-2624cca0cf5e"
      },
      "execution_count": null,
      "outputs": [
        {
          "output_type": "stream",
          "name": "stdout",
          "text": [
            "True\n"
          ]
        }
      ]
    },
    {
      "cell_type": "code",
      "source": [
        "Challenge ='\\u00B2'\n",
        "print(challenge.isdigit())"
      ],
      "metadata": {
        "colab": {
          "base_uri": "https://localhost:8080/"
        },
        "id": "qP4y9XF5zUSj",
        "outputId": "98827b64-40e1-4be9-da98-a831188a9030"
      },
      "execution_count": null,
      "outputs": [
        {
          "output_type": "stream",
          "name": "stdout",
          "text": [
            "True\n"
          ]
        }
      ]
    },
    {
      "cell_type": "code",
      "source": [
        "num ='10'\n",
        "print(num.isidentifier())"
      ],
      "metadata": {
        "colab": {
          "base_uri": "https://localhost:8080/"
        },
        "id": "ozbS3gEuif4h",
        "outputId": "b002b218-fea7-4bcb-d143-629b26b0a8b4"
      },
      "execution_count": 2,
      "outputs": [
        {
          "output_type": "stream",
          "name": "stdout",
          "text": [
            "False\n"
          ]
        }
      ]
    },
    {
      "cell_type": "code",
      "source": [
        "num = '10'\n",
        "print(num.isnumeric())"
      ],
      "metadata": {
        "colab": {
          "base_uri": "https://localhost:8080/"
        },
        "id": "gsP5JwVXi-aL",
        "outputId": "abfb8bc5-0816-4105-9f6e-8aef5bbced1a"
      },
      "execution_count": 7,
      "outputs": [
        {
          "output_type": "stream",
          "name": "stdout",
          "text": [
            "True\n"
          ]
        }
      ]
    },
    {
      "cell_type": "code",
      "source": [
        "num = '10.5'\n",
        "print(num.isnumeric())"
      ],
      "metadata": {
        "colab": {
          "base_uri": "https://localhost:8080/"
        },
        "id": "a9xTXPAUjgzX",
        "outputId": "1d294d00-ad30-4098-ba8b-d33dc3e9b95e"
      },
      "execution_count": 10,
      "outputs": [
        {
          "output_type": "stream",
          "name": "stdout",
          "text": [
            "False\n"
          ]
        }
      ]
    },
    {
      "cell_type": "code",
      "source": [
        "challenge = '30DaysofPython'\n",
        "print(challenge.isidentifier())"
      ],
      "metadata": {
        "colab": {
          "base_uri": "https://localhost:8080/"
        },
        "id": "Ho8sjvJRkTWs",
        "outputId": "1eb99433-c6b8-4c64-80f6-b33cd97cfae2"
      },
      "execution_count": 11,
      "outputs": [
        {
          "output_type": "stream",
          "name": "stdout",
          "text": [
            "False\n"
          ]
        }
      ]
    },
    {
      "cell_type": "code",
      "source": [
        "challenge = 'thirty days of python'\n",
        "print(challenge.isidentifier())"
      ],
      "metadata": {
        "colab": {
          "base_uri": "https://localhost:8080/"
        },
        "id": "KGyqWrcHkzdB",
        "outputId": "2527bc7d-b78f-45ee-c100-163a42cb355b"
      },
      "execution_count": 12,
      "outputs": [
        {
          "output_type": "stream",
          "name": "stdout",
          "text": [
            "False\n"
          ]
        }
      ]
    },
    {
      "cell_type": "code",
      "source": [
        "challenge = 'thirty_days_of_python'\n",
        "print(challenge.isidentifier())"
      ],
      "metadata": {
        "colab": {
          "base_uri": "https://localhost:8080/"
        },
        "id": "WArLjGAsk_ZQ",
        "outputId": "b64c5e5f-4215-4118-aa72-405de1698b69"
      },
      "execution_count": 13,
      "outputs": [
        {
          "output_type": "stream",
          "name": "stdout",
          "text": [
            "True\n"
          ]
        }
      ]
    },
    {
      "cell_type": "code",
      "source": [
        "challenge = 'thirty days of python'\n",
        "print (challenge.islower())"
      ],
      "metadata": {
        "colab": {
          "base_uri": "https://localhost:8080/"
        },
        "id": "V4nUk37QmHpu",
        "outputId": "a11404f1-a45c-4077-9241-710eedd807fd"
      },
      "execution_count": 14,
      "outputs": [
        {
          "output_type": "stream",
          "name": "stdout",
          "text": [
            "True\n"
          ]
        }
      ]
    },
    {
      "cell_type": "code",
      "source": [
        "challenge = 'Thirty Days of Python'\n",
        "print(challenge.islower())"
      ],
      "metadata": {
        "colab": {
          "base_uri": "https://localhost:8080/"
        },
        "id": "T_0-0iYLmar3",
        "outputId": "e10f6a41-b374-4515-ab73-1dd63635272f"
      },
      "execution_count": 16,
      "outputs": [
        {
          "output_type": "stream",
          "name": "stdout",
          "text": [
            "False\n"
          ]
        }
      ]
    },
    {
      "cell_type": "code",
      "source": [
        "challenge= 'thirty_days_of_python'\n",
        "print (challenge. islower())"
      ],
      "metadata": {
        "colab": {
          "base_uri": "https://localhost:8080/"
        },
        "id": "EwNXQWV3nDhv",
        "outputId": "e4dfa2e8-4a3d-410f-9fc9-09c2d9e1707c"
      },
      "execution_count": 17,
      "outputs": [
        {
          "output_type": "stream",
          "name": "stdout",
          "text": [
            "True\n"
          ]
        }
      ]
    },
    {
      "cell_type": "code",
      "source": [
        "challenge = 'thirty days of python'\n",
        "print(challenge.isupper())"
      ],
      "metadata": {
        "colab": {
          "base_uri": "https://localhost:8080/"
        },
        "id": "XkjMP-grnFLg",
        "outputId": "574889a0-8aa0-4df4-bb10-db060d91bf1c"
      },
      "execution_count": 18,
      "outputs": [
        {
          "output_type": "stream",
          "name": "stdout",
          "text": [
            "False\n"
          ]
        }
      ]
    },
    {
      "cell_type": "code",
      "source": [
        "challenge = 'THIRTY DAYS OF PYTHON'\n",
        "print(challenge.isupper())"
      ],
      "metadata": {
        "colab": {
          "base_uri": "https://localhost:8080/"
        },
        "id": "qp9s0PUNpRLy",
        "outputId": "72f18ae2-81cd-4ffb-f97e-45f0cbd31349"
      },
      "execution_count": 19,
      "outputs": [
        {
          "output_type": "stream",
          "name": "stdout",
          "text": [
            "True\n"
          ]
        }
      ]
    }
  ],
  "metadata": {
    "colab": {
      "provenance": [],
      "authorship_tag": "ABX9TyMmBxq+hK5SAYSUsSHllj0x",
      "include_colab_link": true
    },
    "kernelspec": {
      "display_name": "Python 3",
      "name": "python3"
    },
    "language_info": {
      "name": "python"
    }
  },
  "nbformat": 4,
  "nbformat_minor": 0
}