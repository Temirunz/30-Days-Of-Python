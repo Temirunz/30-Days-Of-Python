{
  "nbformat": 4,
  "nbformat_minor": 0,
  "metadata": {
    "colab": {
      "provenance": [],
      "authorship_tag": "ABX9TyPeCrIOM6mUFN///2R7O7i2",
      "include_colab_link": true
    },
    "kernelspec": {
      "name": "python3",
      "display_name": "Python 3"
    },
    "language_info": {
      "name": "python"
    }
  },
  "cells": [
    {
      "cell_type": "markdown",
      "metadata": {
        "id": "view-in-github",
        "colab_type": "text"
      },
      "source": [
        "<a href=\"https://colab.research.google.com/github/Temirunz/30-Days-Of-Python/blob/master/Untitled14.ipynb\" target=\"_parent\"><img src=\"https://colab.research.google.com/assets/colab-badge.svg\" alt=\"Open In Colab\"/></a>"
      ]
    },
    {
      "cell_type": "code",
      "execution_count": 24,
      "metadata": {
        "colab": {
          "base_uri": "https://localhost:8080/"
        },
        "id": "kQZTXDV9myNz",
        "outputId": "10367a15-c3b5-4973-e3eb-953b3713d0bc"
      },
      "outputs": [
        {
          "output_type": "stream",
          "name": "stdout",
          "text": [
            "4 + 3 = 7\n",
            "4 + 3 = 7\n",
            "4 - 3 = 1\n",
            "4 * 3 = 12\n",
            "4 / 3 = 1.3333333333333333\n",
            "4 // 3 = 1\n",
            "4% 3 = 1\n"
          ]
        }
      ],
      "source": [
        "a = 4\n",
        "b = 3\n",
        "a + b\n",
        "a - b\n",
        "print('{} + {} = {}'.format(a, b, a + b))\n",
        "print('{} + {} = {}'.format(a, b, a + b))\n",
        "print('{} - {} = {}'.format(a, b, a - b))\n",
        "print('{} * {} = {}'.format(a, b, a * b))\n",
        "print('{} / {} = {}'.format(a, b, a / b))\n",
        "print('{} // {} = {}'. format(a,b, a//b ))\n",
        "print('{}. % {} = {}'.format(a,b,a % b))"
      ]
    },
    {
      "cell_type": "code",
      "source": [
        "a = 4\n",
        "b = 3\n",
        "print(f'{a}+{b} = {a +b}')\n",
        "print(f'{a} / {b} = {a/b:.2f}')\n"
      ],
      "metadata": {
        "colab": {
          "base_uri": "https://localhost:8080/"
        },
        "id": "AC6bPX0Ix_CH",
        "outputId": "957f61ba-7ae9-4f68-f015-4fe84e46e758"
      },
      "execution_count": 26,
      "outputs": [
        {
          "output_type": "stream",
          "name": "stdout",
          "text": [
            "4+3 = 7\n",
            "4 / 3 = 1.33\n"
          ]
        }
      ]
    },
    {
      "cell_type": "code",
      "source": [
        "language = 'python'\n",
        "a,b,c,d,e,f = language\n",
        "print(a)\n",
        "print(b)\n",
        "print (c)\n",
        "print(d)\n",
        "print (e)\n",
        "print (f)"
      ],
      "metadata": {
        "colab": {
          "base_uri": "https://localhost:8080/"
        },
        "id": "GxCovzlA6YlX",
        "outputId": "2c7c3f28-38bc-4d8d-8ec5-93068d788d3a"
      },
      "execution_count": 30,
      "outputs": [
        {
          "output_type": "stream",
          "name": "stdout",
          "text": [
            "p\n",
            "y\n",
            "t\n",
            "h\n",
            "o\n",
            "n\n"
          ]
        }
      ]
    },
    {
      "cell_type": "code",
      "source": [
        "language = 'coding for all'\n",
        "print(len(language ))\n",
        "last_six = language[6:14]\n",
        "print(last_six)"
      ],
      "metadata": {
        "colab": {
          "base_uri": "https://localhost:8080/"
        },
        "id": "Xh8hLUiV_eoT",
        "outputId": "a7937513-c1ae-42bc-a366-eae460ea9870"
      },
      "execution_count": 32,
      "outputs": [
        {
          "output_type": "stream",
          "name": "stdout",
          "text": [
            "14\n",
            " for all\n"
          ]
        }
      ]
    }
  ]
}